{
 "cells": [
  {
   "cell_type": "code",
   "id": "initial_id",
   "metadata": {
    "collapsed": true,
    "ExecuteTime": {
     "end_time": "2025-10-22T06:30:24.344435Z",
     "start_time": "2025-10-22T06:30:24.339383Z"
    }
   },
   "source": [
    "import torch\n",
    "from torch import nn\n",
    "import torch.optim as optim\n",
    "\n",
    "from tqdm import tqdm\n",
    "\n",
    "import numpy as np\n",
    "import matplotlib.pyplot as plt\n",
    "\n",
    "import torchvision\n",
    "import torchvision.transforms as transforms\n",
    "from torch.utils.data import TensorDataset, DataLoader"
   ],
   "outputs": [],
   "execution_count": 11
  },
  {
   "metadata": {
    "ExecuteTime": {
     "end_time": "2025-10-22T06:30:24.364005Z",
     "start_time": "2025-10-22T06:30:24.358094Z"
    }
   },
   "cell_type": "code",
   "source": [
    "# setting device on GPU if available, else CPU\n",
    "device = torch.device('cuda' if torch.cuda.is_available() else 'cpu')\n",
    "print('Using device:', device)"
   ],
   "id": "a7d70bf4501c9355",
   "outputs": [
    {
     "name": "stdout",
     "output_type": "stream",
     "text": [
      "Using device: cpu\n"
     ]
    }
   ],
   "execution_count": 12
  },
  {
   "metadata": {
    "ExecuteTime": {
     "end_time": "2025-10-22T06:30:24.398084Z",
     "start_time": "2025-10-22T06:30:24.391339Z"
    }
   },
   "cell_type": "code",
   "source": [
    "# Загрузка и подготовка данных CIFAR-10\n",
    "def get_cifar10_data(batch_size=64):  # Уменьшил batch_size для скорости\n",
    "    transform_train = transforms.Compose([\n",
    "        transforms.ToTensor(),\n",
    "        transforms.Normalize((0.4914, 0.4822, 0.4465), (0.2023, 0.1994, 0.2010)),\n",
    "    ])\n",
    "\n",
    "    transform_test = transforms.Compose([\n",
    "        transforms.ToTensor(),\n",
    "        transforms.Normalize((0.4914, 0.4822, 0.4465), (0.2023, 0.1994, 0.2010)),\n",
    "    ])\n",
    "\n",
    "    trainset = torchvision.datasets.CIFAR10(\n",
    "        root='./data', train=True, download=True, transform=transform_train)\n",
    "    trainloader = DataLoader(trainset, batch_size=batch_size, shuffle=True, num_workers=0)  # workers=0 для скорости\n",
    "\n",
    "    testset = torchvision.datasets.CIFAR10(\n",
    "        root='./data', train=False, download=True, transform=transform_test)\n",
    "    testloader = DataLoader(testset, batch_size=batch_size, shuffle=False, num_workers=0)\n",
    "\n",
    "    return trainloader, testloader"
   ],
   "id": "9e7c6e472bd0abcb",
   "outputs": [],
   "execution_count": 13
  },
  {
   "metadata": {
    "ExecuteTime": {
     "end_time": "2025-10-22T06:30:24.427575Z",
     "start_time": "2025-10-22T06:30:24.419649Z"
    }
   },
   "cell_type": "code",
   "source": [
    "def build_alexnet(num_classes=10):\n",
    "    def init_weights(m):\n",
    "        if type(m) == nn.Linear:\n",
    "            nn.init.xavier_uniform_(m.weight)\n",
    "            m.bias.data.fill_(0.01)\n",
    "        if type(m) == nn.Conv2d:\n",
    "            nn.init.xavier_uniform_(m.weight)\n",
    "\n",
    "    net = nn.Sequential(\n",
    "        # Input: 32x32x3 (CIFAR-10)\n",
    "\n",
    "        # Layer 1\n",
    "        nn.Conv2d(in_channels=3, out_channels=64, kernel_size=3, stride=1, padding=1),\n",
    "        nn.ReLU(inplace=True),\n",
    "        nn.MaxPool2d(kernel_size=2, stride=2),  # Output: 16x16x64\n",
    "\n",
    "        # Layer 2\n",
    "        nn.Conv2d(in_channels=64, out_channels=128, kernel_size=3, padding=1),\n",
    "        nn.ReLU(inplace=True),\n",
    "        nn.MaxPool2d(kernel_size=2, stride=2),  # Output: 8x8x128\n",
    "\n",
    "        # Layer 3\n",
    "        nn.Conv2d(in_channels=128, out_channels=256, kernel_size=3, padding=1),\n",
    "        nn.ReLU(inplace=True),  # Output: 8x8x256\n",
    "\n",
    "        # Layer 4\n",
    "        nn.Conv2d(in_channels=256, out_channels=256, kernel_size=3, padding=1),\n",
    "        nn.ReLU(inplace=True),  # Output: 8x8x256\n",
    "\n",
    "        # Layer 5\n",
    "        nn.Conv2d(in_channels=256, out_channels=128, kernel_size=3, padding=1),\n",
    "        nn.ReLU(inplace=True),\n",
    "        nn.MaxPool2d(kernel_size=2, stride=2),  # Output: 4x4x128\n",
    "\n",
    "        nn.Flatten(),\n",
    "\n",
    "        # Fully Connected Layers\n",
    "        nn.Dropout(0.5),\n",
    "        nn.Linear(128 * 4 * 4, 512),\n",
    "        nn.ReLU(inplace=True),\n",
    "\n",
    "        nn.Dropout(0.5),\n",
    "        nn.Linear(512, 256),\n",
    "        nn.ReLU(inplace=True),\n",
    "\n",
    "        nn.Linear(256, num_classes)\n",
    "    )\n",
    "\n",
    "    net.apply(init_weights)\n",
    "    return net"
   ],
   "id": "674ccdb41bdf9379",
   "outputs": [],
   "execution_count": 14
  },
  {
   "metadata": {
    "ExecuteTime": {
     "end_time": "2025-10-22T06:30:24.451040Z",
     "start_time": "2025-10-22T06:30:24.441838Z"
    }
   },
   "cell_type": "code",
   "source": [
    "def train_alexnet(net, train_loader, device, num_epochs=20, learning_rate=0.01):\n",
    "    optimizer = optim.SGD(net.parameters(), lr=learning_rate, momentum=0.9, weight_decay=5e-4)\n",
    "    loss_function = nn.CrossEntropyLoss()\n",
    "    scheduler = optim.lr_scheduler.StepLR(optimizer, step_size=10, gamma=0.1)\n",
    "    acc_history = []\n",
    "\n",
    "    with tqdm(total=len(train_loader)*num_epochs, position=0, leave=True) as pbar:\n",
    "        for epoch in range(num_epochs):\n",
    "            running_loss = 0.0\n",
    "            correct = 0\n",
    "            total = 0\n",
    "\n",
    "            net.train()\n",
    "            for batch_num, (inputs, labels) in enumerate(train_loader):\n",
    "                inputs = inputs.to(device)\n",
    "                labels = labels.to(device)\n",
    "\n",
    "                optimizer.zero_grad()\n",
    "                outputs = net(inputs)\n",
    "                loss = loss_function(outputs, labels)\n",
    "                loss.backward()\n",
    "                optimizer.step()\n",
    "\n",
    "                running_loss += loss.item()\n",
    "\n",
    "                # Calculate batch Accuracy\n",
    "                _, predicted = outputs.max(1)\n",
    "                batch_total = labels.size(0)\n",
    "                batch_correct = predicted.eq(labels).sum().item()\n",
    "                batch_acc = batch_correct/batch_total\n",
    "\n",
    "                pbar.set_description(\"Epoch: %d, Batch: %2d, Loss: %.4f, Acc: %.2f\" %\n",
    "                                   (epoch+1, batch_num+1, running_loss/(batch_num+1), batch_acc))\n",
    "                pbar.update()\n",
    "\n",
    "                total += batch_total\n",
    "                correct += batch_correct\n",
    "\n",
    "            scheduler.step()\n",
    "\n",
    "            # Print the evaluation metric and reset it for the next epoch\n",
    "            epoch_acc = correct/total\n",
    "            acc_history.append(epoch_acc)\n",
    "            print(f'Epoch {epoch+1}/{num_epochs}, Loss: {running_loss/len(train_loader):.4f}, '\n",
    "                  f'Train Acc: {epoch_acc:.2%}')\n",
    "\n",
    "        pbar.close()\n",
    "\n",
    "    return acc_history"
   ],
   "id": "26854e561e41754d",
   "outputs": [],
   "execution_count": 15
  },
  {
   "metadata": {
    "ExecuteTime": {
     "end_time": "2025-10-22T06:30:24.464138Z",
     "start_time": "2025-10-22T06:30:24.458613Z"
    }
   },
   "cell_type": "code",
   "source": [
    "# Функция оценки\n",
    "def evaluate_acc(net, test_loader, device):\n",
    "    net.eval()\n",
    "    total = 0\n",
    "    correct = 0\n",
    "\n",
    "    with torch.no_grad():\n",
    "        for batch_num, (inputs, labels) in enumerate(test_loader):\n",
    "            inputs = inputs.to(device)\n",
    "            labels = labels.to(device)\n",
    "\n",
    "            outputs = net(inputs)\n",
    "            _, predicted = outputs.max(1)\n",
    "\n",
    "            total += labels.size(0)\n",
    "            correct += predicted.eq(labels).sum().item()\n",
    "\n",
    "    acc = correct/total\n",
    "    return acc"
   ],
   "id": "b946a9076cc548ec",
   "outputs": [],
   "execution_count": 16
  },
  {
   "metadata": {
    "ExecuteTime": {
     "end_time": "2025-10-22T06:30:24.478945Z",
     "start_time": "2025-10-22T06:30:24.472543Z"
    }
   },
   "cell_type": "code",
   "source": [
    "# Функция визуализации\n",
    "def print_history(history, title):\n",
    "    plt.figure(figsize=(7, 4))\n",
    "    plt.plot(history)\n",
    "    plt.title(title)\n",
    "    plt.ylabel('Accuracy')\n",
    "    plt.xlabel('Epoch')\n",
    "    plt.grid(True)\n",
    "    plt.show()"
   ],
   "id": "d225ebe09699256c",
   "outputs": [],
   "execution_count": 17
  },
  {
   "metadata": {
    "ExecuteTime": {
     "end_time": "2025-10-22T07:37:32.571884Z",
     "start_time": "2025-10-22T06:30:24.492248Z"
    }
   },
   "cell_type": "code",
   "source": [
    "batch_size = 64\n",
    "epochs = 20\n",
    "lr = 0.01\n",
    "\n",
    "train_dataloader, test_dataloader = get_cifar10_data(batch_size)\n",
    "\n",
    "print(f\"Training samples: {len(train_dataloader.dataset)}\")\n",
    "print(f\"Test samples: {len(test_dataloader.dataset)}\")\n",
    "print(f\"Batch size: {batch_size}\")\n",
    "print(f\"Epochs: {epochs}\")\n",
    "\n",
    "# Создание модели\n",
    "alexnet = build_alexnet(num_classes=10)\n",
    "alexnet = alexnet.to(device)\n",
    "print(\"AlexNet architecture:\")\n",
    "print(alexnet)\n",
    "\n",
    "# Обучение \n",
    "hist_alexnet = train_alexnet(alexnet, train_dataloader, device, epochs, lr)\n",
    "\n",
    "# Оценка\n",
    "alexnet_acc = evaluate_acc(alexnet, test_dataloader, device)\n",
    "print(f'\\nTest Accuracy (AlexNet): {alexnet_acc:.2%}')\n",
    "\n",
    "# Визуализация\n",
    "print_history(hist_alexnet, \"AlexNet Model Accuracy\")"
   ],
   "id": "712e270440e6ddab",
   "outputs": [
    {
     "name": "stdout",
     "output_type": "stream",
     "text": [
      "Training samples: 50000\n",
      "Test samples: 10000\n",
      "Batch size: 64\n",
      "Epochs: 20\n",
      "AlexNet architecture:\n",
      "Sequential(\n",
      "  (0): Conv2d(3, 64, kernel_size=(3, 3), stride=(1, 1), padding=(1, 1))\n",
      "  (1): ReLU(inplace=True)\n",
      "  (2): MaxPool2d(kernel_size=2, stride=2, padding=0, dilation=1, ceil_mode=False)\n",
      "  (3): Conv2d(64, 128, kernel_size=(3, 3), stride=(1, 1), padding=(1, 1))\n",
      "  (4): ReLU(inplace=True)\n",
      "  (5): MaxPool2d(kernel_size=2, stride=2, padding=0, dilation=1, ceil_mode=False)\n",
      "  (6): Conv2d(128, 256, kernel_size=(3, 3), stride=(1, 1), padding=(1, 1))\n",
      "  (7): ReLU(inplace=True)\n",
      "  (8): Conv2d(256, 256, kernel_size=(3, 3), stride=(1, 1), padding=(1, 1))\n",
      "  (9): ReLU(inplace=True)\n",
      "  (10): Conv2d(256, 128, kernel_size=(3, 3), stride=(1, 1), padding=(1, 1))\n",
      "  (11): ReLU(inplace=True)\n",
      "  (12): MaxPool2d(kernel_size=2, stride=2, padding=0, dilation=1, ceil_mode=False)\n",
      "  (13): Flatten(start_dim=1, end_dim=-1)\n",
      "  (14): Dropout(p=0.5, inplace=False)\n",
      "  (15): Linear(in_features=2048, out_features=512, bias=True)\n",
      "  (16): ReLU(inplace=True)\n",
      "  (17): Dropout(p=0.5, inplace=False)\n",
      "  (18): Linear(in_features=512, out_features=256, bias=True)\n",
      "  (19): ReLU(inplace=True)\n",
      "  (20): Linear(in_features=256, out_features=10, bias=True)\n",
      ")\n"
     ]
    },
    {
     "name": "stderr",
     "output_type": "stream",
     "text": [
      "Epoch: 1, Batch: 782, Loss: 1.7045, Acc: 0.44:   5%|▍         | 781/15640 [03:31<1:00:40,  4.08it/s]"
     ]
    },
    {
     "name": "stdout",
     "output_type": "stream",
     "text": [
      "Epoch 1/20, Loss: 1.7045, Train Acc: 35.93%\n"
     ]
    },
    {
     "name": "stderr",
     "output_type": "stream",
     "text": [
      "Epoch: 2, Batch: 782, Loss: 1.2240, Acc: 0.62:  10%|▉         | 1563/15640 [06:56<1:05:38,  3.57it/s]"
     ]
    },
    {
     "name": "stdout",
     "output_type": "stream",
     "text": [
      "Epoch 2/20, Loss: 1.2240, Train Acc: 55.27%\n"
     ]
    },
    {
     "name": "stderr",
     "output_type": "stream",
     "text": [
      "Epoch: 3, Batch: 782, Loss: 0.9917, Acc: 0.62:  15%|█▍        | 2345/15640 [10:28<57:25,  3.86it/s]  "
     ]
    },
    {
     "name": "stdout",
     "output_type": "stream",
     "text": [
      "Epoch 3/20, Loss: 0.9917, Train Acc: 64.48%\n"
     ]
    },
    {
     "name": "stderr",
     "output_type": "stream",
     "text": [
      "Epoch: 4, Batch: 782, Loss: 0.8479, Acc: 0.75:  20%|█▉        | 3127/15640 [13:56<56:29,  3.69it/s]  "
     ]
    },
    {
     "name": "stdout",
     "output_type": "stream",
     "text": [
      "Epoch 4/20, Loss: 0.8479, Train Acc: 70.20%\n"
     ]
    },
    {
     "name": "stderr",
     "output_type": "stream",
     "text": [
      "Epoch: 5, Batch: 782, Loss: 0.7446, Acc: 0.75:  25%|██▍       | 3909/15640 [17:29<48:10,  4.06it/s]  "
     ]
    },
    {
     "name": "stdout",
     "output_type": "stream",
     "text": [
      "Epoch 5/20, Loss: 0.7446, Train Acc: 74.08%\n"
     ]
    },
    {
     "name": "stderr",
     "output_type": "stream",
     "text": [
      "Epoch: 6, Batch: 782, Loss: 0.6635, Acc: 0.75:  30%|██▉       | 4691/15640 [20:43<45:32,  4.01it/s]  "
     ]
    },
    {
     "name": "stdout",
     "output_type": "stream",
     "text": [
      "Epoch 6/20, Loss: 0.6635, Train Acc: 76.97%\n"
     ]
    },
    {
     "name": "stderr",
     "output_type": "stream",
     "text": [
      "Epoch: 7, Batch: 782, Loss: 0.5938, Acc: 0.75:  35%|███▍      | 5473/15640 [23:58<41:07,  4.12it/s]  "
     ]
    },
    {
     "name": "stdout",
     "output_type": "stream",
     "text": [
      "Epoch 7/20, Loss: 0.5938, Train Acc: 79.51%\n"
     ]
    },
    {
     "name": "stderr",
     "output_type": "stream",
     "text": [
      "Epoch: 8, Batch: 782, Loss: 0.5307, Acc: 0.88:  40%|███▉      | 6255/15640 [27:14<37:20,  4.19it/s]  "
     ]
    },
    {
     "name": "stdout",
     "output_type": "stream",
     "text": [
      "Epoch 8/20, Loss: 0.5307, Train Acc: 81.67%\n"
     ]
    },
    {
     "name": "stderr",
     "output_type": "stream",
     "text": [
      "Epoch: 9, Batch: 782, Loss: 0.4773, Acc: 0.81:  45%|████▍     | 7037/15640 [30:20<33:47,  4.24it/s]"
     ]
    },
    {
     "name": "stdout",
     "output_type": "stream",
     "text": [
      "Epoch 9/20, Loss: 0.4773, Train Acc: 83.47%\n"
     ]
    },
    {
     "name": "stderr",
     "output_type": "stream",
     "text": [
      "Epoch: 10, Batch: 782, Loss: 0.4351, Acc: 1.00:  50%|████▉     | 7819/15640 [33:27<30:48,  4.23it/s]"
     ]
    },
    {
     "name": "stdout",
     "output_type": "stream",
     "text": [
      "Epoch 10/20, Loss: 0.4351, Train Acc: 85.09%\n"
     ]
    },
    {
     "name": "stderr",
     "output_type": "stream",
     "text": [
      "Epoch: 11, Batch: 782, Loss: 0.2548, Acc: 1.00:  55%|█████▍    | 8601/15640 [36:34<27:42,  4.23it/s]"
     ]
    },
    {
     "name": "stdout",
     "output_type": "stream",
     "text": [
      "Epoch 11/20, Loss: 0.2548, Train Acc: 91.38%\n"
     ]
    },
    {
     "name": "stderr",
     "output_type": "stream",
     "text": [
      "Epoch: 12, Batch: 782, Loss: 0.2125, Acc: 0.88:  60%|██████    | 9384/15640 [39:59<24:00,  4.34it/s]"
     ]
    },
    {
     "name": "stdout",
     "output_type": "stream",
     "text": [
      "Epoch 12/20, Loss: 0.2125, Train Acc: 92.87%\n"
     ]
    },
    {
     "name": "stderr",
     "output_type": "stream",
     "text": [
      "Epoch: 13, Batch: 782, Loss: 0.1883, Acc: 1.00:  65%|██████▍   | 10165/15640 [43:47<24:16,  3.76it/s]"
     ]
    },
    {
     "name": "stdout",
     "output_type": "stream",
     "text": [
      "Epoch 13/20, Loss: 0.1883, Train Acc: 93.64%\n"
     ]
    },
    {
     "name": "stderr",
     "output_type": "stream",
     "text": [
      "Epoch: 14, Batch: 782, Loss: 0.1682, Acc: 0.81:  70%|██████▉   | 10947/15640 [47:04<19:45,  3.96it/s]"
     ]
    },
    {
     "name": "stdout",
     "output_type": "stream",
     "text": [
      "Epoch 14/20, Loss: 0.1682, Train Acc: 94.41%\n"
     ]
    },
    {
     "name": "stderr",
     "output_type": "stream",
     "text": [
      "Epoch: 15, Batch: 782, Loss: 0.1529, Acc: 0.94:  75%|███████▍  | 11729/15640 [50:21<16:13,  4.02it/s]"
     ]
    },
    {
     "name": "stdout",
     "output_type": "stream",
     "text": [
      "Epoch 15/20, Loss: 0.1529, Train Acc: 94.93%\n"
     ]
    },
    {
     "name": "stderr",
     "output_type": "stream",
     "text": [
      "Epoch: 16, Batch: 782, Loss: 0.1373, Acc: 0.94:  80%|███████▉  | 12511/15640 [53:38<13:01,  4.00it/s]"
     ]
    },
    {
     "name": "stdout",
     "output_type": "stream",
     "text": [
      "Epoch 16/20, Loss: 0.1373, Train Acc: 95.38%\n"
     ]
    },
    {
     "name": "stderr",
     "output_type": "stream",
     "text": [
      "Epoch: 17, Batch: 782, Loss: 0.1231, Acc: 0.94:  85%|████████▍ | 13293/15640 [56:55<09:41,  4.03it/s]"
     ]
    },
    {
     "name": "stdout",
     "output_type": "stream",
     "text": [
      "Epoch 17/20, Loss: 0.1231, Train Acc: 95.87%\n"
     ]
    },
    {
     "name": "stderr",
     "output_type": "stream",
     "text": [
      "Epoch: 18, Batch: 782, Loss: 0.1136, Acc: 0.94:  90%|████████▉ | 14075/15640 [1:00:12<06:30,  4.01it/s]"
     ]
    },
    {
     "name": "stdout",
     "output_type": "stream",
     "text": [
      "Epoch 18/20, Loss: 0.1136, Train Acc: 96.20%\n"
     ]
    },
    {
     "name": "stderr",
     "output_type": "stream",
     "text": [
      "Epoch: 19, Batch: 782, Loss: 0.1028, Acc: 1.00:  95%|█████████▍| 14857/15640 [1:03:29<03:12,  4.06it/s]"
     ]
    },
    {
     "name": "stdout",
     "output_type": "stream",
     "text": [
      "Epoch 19/20, Loss: 0.1028, Train Acc: 96.57%\n"
     ]
    },
    {
     "name": "stderr",
     "output_type": "stream",
     "text": [
      "Epoch: 20, Batch: 782, Loss: 0.0919, Acc: 1.00: 100%|██████████| 15640/15640 [1:06:48<00:00,  3.90it/s]\n"
     ]
    },
    {
     "name": "stdout",
     "output_type": "stream",
     "text": [
      "Epoch 20/20, Loss: 0.0919, Train Acc: 97.01%\n",
      "\n",
      "Test Accuracy (AlexNet): 84.43%\n"
     ]
    },
    {
     "data": {
      "text/plain": [
       "<Figure size 700x400 with 1 Axes>"
      ],
      "image/png": "[encoded data removed]"
     },
     "metadata": {},
     "output_type": "display_data"
    }
   ],
   "execution_count": 18
  }
 ],
 "metadata": {
  "kernelspec": {
   "display_name": "Python 3",
   "language": "python",
   "name": "python3"
  },
  "language_info": {
   "codemirror_mode": {
    "name": "ipython",
    "version": 2
   },
   "file_extension": ".py",
   "mimetype": "text/x-python",
   "name": "python",
   "nbconvert_exporter": "python",
   "pygments_lexer": "ipython2",
   "version": "2.7.6"
  }
 },
 "nbformat": 4,
 "nbformat_minor": 5
}
